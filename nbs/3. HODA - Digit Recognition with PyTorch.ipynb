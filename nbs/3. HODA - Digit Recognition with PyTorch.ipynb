{
  "nbformat": 4,
  "nbformat_minor": 0,
  "metadata": {
    "colab": {
      "name": "PyTorch_CNN_HODA.ipynb",
      "provenance": [],
      "collapsed_sections": [],
      "toc_visible": true
    },
    "kernelspec": {
      "name": "python3",
      "display_name": "Python 3"
    },
    "accelerator": "GPU"
  },
  "cells": [
    {
      "cell_type": "code",
      "metadata": {
        "id": "uTr9C_4kTvML",
        "colab_type": "code",
        "colab": {}
      },
      "source": [
        "import numpy as np\n",
        "from scipy import io\n",
        "import matplotlib.pyplot as plt\n",
        "from skimage.transform import resize"
      ],
      "execution_count": 0,
      "outputs": []
    },
    {
      "cell_type": "code",
      "metadata": {
        "id": "Aqkv8Hg8TwhE",
        "colab_type": "code",
        "outputId": "b6301ce4-f29f-4d28-c24b-d8222943c8fb",
        "colab": {
          "base_uri": "https://localhost:8080/",
          "height": 34
        }
      },
      "source": [
        "# DownloadDataset\n",
        "import urllib.request\n",
        "url = 'http://farsiocr.ir/Archive/DigitDB.zip'\n",
        "urllib.request.urlretrieve(url, './Data.zip')"
      ],
      "execution_count": 0,
      "outputs": [
        {
          "output_type": "execute_result",
          "data": {
            "text/plain": [
              "('./Data.zip', <http.client.HTTPMessage at 0x7f7dfd6200b8>)"
            ]
          },
          "metadata": {
            "tags": []
          },
          "execution_count": 2
        }
      ]
    },
    {
      "cell_type": "code",
      "metadata": {
        "id": "5917D18-T0a6",
        "colab_type": "code",
        "colab": {}
      },
      "source": [
        "from zipfile import ZipFile\n",
        "address = './Data.zip'\n",
        "d = ZipFile(address, 'r')\n",
        "d.extractall()"
      ],
      "execution_count": 0,
      "outputs": []
    },
    {
      "cell_type": "code",
      "metadata": {
        "id": "j1vcUQJsT0dv",
        "colab_type": "code",
        "colab": {}
      },
      "source": [
        "# https://github.com/amir-saniyan/HodaDatasetReader\n",
        "import struct\n",
        "import numpy as np\n",
        "import cv2\n",
        "\n",
        "\n",
        "def __convert_to_one_hot(vector, num_classes):\n",
        "    result = np.zeros(shape=[len(vector), num_classes])\n",
        "    result[np.arange(len(vector)), vector] = 1\n",
        "    return result\n",
        "\n",
        "\n",
        "def __resize_image(src_image, dst_image_height, dst_image_width):\n",
        "    src_image_height = src_image.shape[0]\n",
        "    src_image_width = src_image.shape[1]\n",
        "\n",
        "    if src_image_height > dst_image_height or src_image_width > dst_image_width:\n",
        "        height_scale = dst_image_height / src_image_height\n",
        "        width_scale = dst_image_width / src_image_width\n",
        "        scale = min(height_scale, width_scale)\n",
        "        img = cv2.resize(src=src_image, dsize=(0, 0), fx=scale, fy=scale, interpolation=cv2.INTER_CUBIC)\n",
        "    else:\n",
        "        img = src_image\n",
        "\n",
        "    img_height = img.shape[0]\n",
        "    img_width = img.shape[1]\n",
        "\n",
        "    dst_image = np.zeros(shape=[dst_image_height, dst_image_width], dtype=np.uint8)\n",
        "\n",
        "    y_offset = (dst_image_height - img_height) // 2\n",
        "    x_offset = (dst_image_width - img_width) // 2\n",
        "\n",
        "    dst_image[y_offset:y_offset+img_height, x_offset:x_offset+img_width] = img\n",
        "\n",
        "    return dst_image\n",
        "\n",
        "\n",
        "def read_hoda_cdb(file_name):\n",
        "    with open(file_name, 'rb') as binary_file:\n",
        "\n",
        "        data = binary_file.read()\n",
        "\n",
        "        offset = 0\n",
        "\n",
        "        # read private header\n",
        "\n",
        "        yy = struct.unpack_from('H', data, offset)[0]\n",
        "        offset += 2\n",
        "\n",
        "        m = struct.unpack_from('B', data, offset)[0]\n",
        "        offset += 1\n",
        "\n",
        "        d = struct.unpack_from('B', data, offset)[0]\n",
        "        offset += 1\n",
        "\n",
        "        H = struct.unpack_from('B', data, offset)[0]\n",
        "        offset += 1\n",
        "\n",
        "        W = struct.unpack_from('B', data, offset)[0]\n",
        "        offset += 1\n",
        "\n",
        "        TotalRec = struct.unpack_from('I', data, offset)[0]\n",
        "        offset += 4\n",
        "\n",
        "        LetterCount = struct.unpack_from('128I', data, offset)\n",
        "        offset += 128 * 4\n",
        "\n",
        "        imgType = struct.unpack_from('B', data, offset)[0]  # 0: binary, 1: gray\n",
        "        offset += 1\n",
        "\n",
        "        Comments = struct.unpack_from('256c', data, offset)\n",
        "        offset += 256 * 1\n",
        "\n",
        "        Reserved = struct.unpack_from('245c', data, offset)\n",
        "        offset += 245 * 1\n",
        "\n",
        "        if (W > 0) and (H > 0):\n",
        "            normal = True\n",
        "        else:\n",
        "            normal = False\n",
        "\n",
        "        images = []\n",
        "        labels = []\n",
        "\n",
        "        for i in range(TotalRec):\n",
        "\n",
        "            StartByte = struct.unpack_from('B', data, offset)[0]  # must be 0xff\n",
        "            offset += 1\n",
        "\n",
        "            label = struct.unpack_from('B', data, offset)[0]\n",
        "            offset += 1\n",
        "\n",
        "            if not normal:\n",
        "                W = struct.unpack_from('B', data, offset)[0]\n",
        "                offset += 1\n",
        "\n",
        "                H = struct.unpack_from('B', data, offset)[0]\n",
        "                offset += 1\n",
        "\n",
        "            ByteCount = struct.unpack_from('H', data, offset)[0]\n",
        "            offset += 2\n",
        "\n",
        "            image = np.zeros(shape=[H, W], dtype=np.uint8)\n",
        "\n",
        "            if imgType == 0:\n",
        "                # Binary\n",
        "                for y in range(H):\n",
        "                    bWhite = True\n",
        "                    counter = 0\n",
        "                    while counter < W:\n",
        "                        WBcount = struct.unpack_from('B', data, offset)[0]\n",
        "                        offset += 1\n",
        "                        # x = 0\n",
        "                        # while x < WBcount:\n",
        "                        #     if bWhite:\n",
        "                        #         image[y, x + counter] = 0  # Background\n",
        "                        #     else:\n",
        "                        #         image[y, x + counter] = 255  # ForeGround\n",
        "                        #     x += 1\n",
        "                        if bWhite:\n",
        "                            image[y, counter:counter + WBcount] = 0  # Background\n",
        "                        else:\n",
        "                            image[y, counter:counter + WBcount] = 255  # ForeGround\n",
        "                        bWhite = not bWhite  # black white black white ...\n",
        "                        counter += WBcount\n",
        "            else:\n",
        "                # GrayScale mode\n",
        "                data = struct.unpack_from('{}B'.format(W * H), data, offset)\n",
        "                offset += W * H\n",
        "                image = np.asarray(data, dtype=np.uint8).reshape([W, H]).T\n",
        "\n",
        "            images.append(image)\n",
        "            labels.append(label)\n",
        "\n",
        "        return images, labels\n",
        "\n",
        "\n",
        "def read_hoda_dataset(dataset_path, images_height=32, images_width=32, one_hot=False, reshape=True):\n",
        "    images, labels = read_hoda_cdb(dataset_path)\n",
        "    assert len(images) == len(labels)\n",
        "\n",
        "    X = np.zeros(shape=[len(images), images_height, images_width], dtype=np.float32)\n",
        "    Y = np.zeros(shape=[len(labels)], dtype=np.int)\n",
        "\n",
        "    for i in range(len(images)):\n",
        "        image = images[i]\n",
        "        # Image resizing.\n",
        "        image = __resize_image(src_image=image, dst_image_height=images_height, dst_image_width=images_width)\n",
        "        # Image normalization.\n",
        "        image = image / 255\n",
        "        # Image binarization.\n",
        "        image = np.where(image >= 0.5, 1, 0)\n",
        "        # Image.\n",
        "        X[i] = image\n",
        "        # Label.\n",
        "        Y[i] = labels[i]\n",
        "\n",
        "    if one_hot:\n",
        "        Y = __convert_to_one_hot(Y, 10).astype(dtype=np.float32)\n",
        "    else:\n",
        "        Y = Y.astype(dtype=np.float32)\n",
        "\n",
        "    if reshape:\n",
        "        X = X.reshape(-1, images_height * images_width)\n",
        "    else:\n",
        "        X = X.reshape(-1, images_height, images_width, 1)\n",
        "\n",
        "    return X, Y"
      ],
      "execution_count": 0,
      "outputs": []
    },
    {
      "cell_type": "code",
      "metadata": {
        "id": "3jF7X_fFT0gX",
        "colab_type": "code",
        "colab": {}
      },
      "source": [
        "train_images, train_labels = read_hoda_cdb('./Train 60000.cdb')"
      ],
      "execution_count": 0,
      "outputs": []
    },
    {
      "cell_type": "code",
      "metadata": {
        "id": "bU_rtVWGT0lR",
        "colab_type": "code",
        "colab": {}
      },
      "source": [
        "X_train_original = np.squeeze(train_images[:1000])\n",
        "y_train = np.squeeze(train_labels[:1000])\n",
        "X_test_original = np.squeeze(train_images[1000:1200])\n",
        "y_test = np.squeeze(train_labels[1000:1200])"
      ],
      "execution_count": 0,
      "outputs": []
    },
    {
      "cell_type": "code",
      "metadata": {
        "id": "7mcUAw8-T0pt",
        "colab_type": "code",
        "outputId": "00109d03-0124-4b55-8fef-fd50f25830dc",
        "colab": {
          "base_uri": "https://localhost:8080/",
          "height": 286
        }
      },
      "source": [
        "plt.imshow(X_train_original[999], cmap = 'gray')"
      ],
      "execution_count": 0,
      "outputs": [
        {
          "output_type": "execute_result",
          "data": {
            "text/plain": [
              "<matplotlib.image.AxesImage at 0x7f7df4dd0080>"
            ]
          },
          "metadata": {
            "tags": []
          },
          "execution_count": 7
        },
        {
          "output_type": "display_data",
          "data": {
            "image/png": "[encoded data removed]",
            "text/plain": [
              "<Figure size 432x288 with 1 Axes>"
            ]
          },
          "metadata": {
            "tags": []
          }
        }
      ]
    },
    {
      "cell_type": "code",
      "metadata": {
        "id": "9186L45nT0sU",
        "colab_type": "code",
        "outputId": "d8871b73-2273-44cf-b0d6-ec96e6f467fe",
        "colab": {
          "base_uri": "https://localhost:8080/",
          "height": 34
        }
      },
      "source": [
        "X_train_original[0].shape"
      ],
      "execution_count": 0,
      "outputs": [
        {
          "output_type": "execute_result",
          "data": {
            "text/plain": [
              "(27, 20)"
            ]
          },
          "metadata": {
            "tags": []
          },
          "execution_count": 8
        }
      ]
    },
    {
      "cell_type": "code",
      "metadata": {
        "id": "EcNaH5lST0ou",
        "colab_type": "code",
        "outputId": "587aeea8-07f4-42da-f54d-f697a5769599",
        "colab": {
          "base_uri": "https://localhost:8080/",
          "height": 286
        }
      },
      "source": [
        "def show_image(i = 70, data = X_train_original, label = y_train):\n",
        "  assert i <= len(data)\n",
        "  image = data[i]\n",
        "  lab = label[i]\n",
        "  plt.imshow(image, cmap = 'gray')\n",
        "  print(f\"Label for {i}th image is: {lab}\")\n",
        "\n",
        "show_image()"
      ],
      "execution_count": 0,
      "outputs": [
        {
          "output_type": "stream",
          "text": [
            "Label for 70th image is: 8\n"
          ],
          "name": "stdout"
        },
        {
          "output_type": "display_data",
          "data": {
            "image/png": "[encoded data removed]",
            "text/plain": [
              "<Figure size 432x288 with 1 Axes>"
            ]
          },
          "metadata": {
            "tags": []
          }
        }
      ]
    },
    {
      "cell_type": "code",
      "metadata": {
        "id": "188-77YwT0kR",
        "colab_type": "code",
        "colab": {}
      },
      "source": [
        "# Resizing\n",
        "X_train_5b5 = [resize(img, (25, 20)) for img in X_train_original]\n",
        "X_test_5b5 = [resize(img, (25, 20)) for img in X_test_original]"
      ],
      "execution_count": 0,
      "outputs": []
    },
    {
      "cell_type": "code",
      "metadata": {
        "id": "88qJKXjGUK60",
        "colab_type": "code",
        "colab": {}
      },
      "source": [
        "# Reshaping\n",
        "X_train = [x.reshape(-1) for x in X_train_5b5]\n",
        "X_test = [x.reshape(-1) for x in X_test_5b5]"
      ],
      "execution_count": 0,
      "outputs": []
    },
    {
      "cell_type": "code",
      "metadata": {
        "id": "eeza-_2XUK9V",
        "colab_type": "code",
        "outputId": "a281c1be-6be2-4d01-e017-93eff8561fe8",
        "colab": {
          "base_uri": "https://localhost:8080/",
          "height": 34
        }
      },
      "source": [
        "print(X_train[0].shape, X_test[0].shape)"
      ],
      "execution_count": 0,
      "outputs": [
        {
          "output_type": "stream",
          "text": [
            "(500,) (500,)\n"
          ],
          "name": "stdout"
        }
      ]
    },
    {
      "cell_type": "markdown",
      "metadata": {
        "id": "S-5MTjbqUPhi",
        "colab_type": "text"
      },
      "source": [
        "# Training Phase\n",
        "\n",
        "https://www.kaggle.com/sdelecourt/cnn-with-pytorch-for-mnist"
      ]
    },
    {
      "cell_type": "code",
      "metadata": {
        "id": "W84s1jqAUK_3",
        "colab_type": "code",
        "outputId": "88a530f9-6773-467f-c9b1-76139f43f420",
        "colab": {
          "base_uri": "https://localhost:8080/",
          "height": 190
        }
      },
      "source": [
        "!pip3 install torch -U"
      ],
      "execution_count": 0,
      "outputs": [
        {
          "output_type": "stream",
          "text": [
            "Collecting torch\n",
            "\u001b[?25l  Downloading https://files.pythonhosted.org/packages/30/57/d5cceb0799c06733eefce80c395459f28970ebb9e896846ce96ab579a3f1/torch-1.2.0-cp36-cp36m-manylinux1_x86_64.whl (748.8MB)\n",
            "\u001b[K     |████████████████████████████████| 748.9MB 27kB/s \n",
            "\u001b[?25hRequirement already satisfied, skipping upgrade: numpy in /usr/local/lib/python3.6/dist-packages (from torch) (1.16.5)\n",
            "Installing collected packages: torch\n",
            "  Found existing installation: torch 1.1.0\n",
            "    Uninstalling torch-1.1.0:\n",
            "      Successfully uninstalled torch-1.1.0\n",
            "Successfully installed torch-1.2.0\n"
          ],
          "name": "stdout"
        }
      ]
    },
    {
      "cell_type": "code",
      "metadata": {
        "id": "grgsqWiJULHa",
        "colab_type": "code",
        "colab": {}
      },
      "source": [
        "import torch\n",
        "import torch.nn as nn\n",
        "import torch.nn.functional as F\n",
        "import torch.utils.data\n",
        "from torch.autograd import Variable\n",
        "import torch.optim as opt"
      ],
      "execution_count": 0,
      "outputs": []
    },
    {
      "cell_type": "code",
      "metadata": {
        "id": "d7Dqf591ULMn",
        "colab_type": "code",
        "colab": {}
      },
      "source": [
        "np.random.seed(123) # for reproducibility"
      ],
      "execution_count": 0,
      "outputs": []
    },
    {
      "cell_type": "code",
      "metadata": {
        "id": "STiLRVFvULPk",
        "colab_type": "code",
        "colab": {}
      },
      "source": [
        "# list to np arrays\n",
        "X_train = np.array(X_train_5b5)\n",
        "y_train = np.array(y_train)\n",
        "X_test = np.array(X_test_5b5)\n",
        "y_test = np.array(y_test)"
      ],
      "execution_count": 0,
      "outputs": []
    },
    {
      "cell_type": "code",
      "metadata": {
        "id": "Jd4_w8a31Nqu",
        "colab_type": "code",
        "outputId": "846088e3-e636-4bc0-892e-0749339dbd37",
        "colab": {
          "base_uri": "https://localhost:8080/",
          "height": 1000
        }
      },
      "source": [
        "X_train[1]"
      ],
      "execution_count": 0,
      "outputs": [
        {
          "output_type": "execute_result",
          "data": {
            "text/plain": [
              "array([[0.    , 0.    , 0.    , 0.    , 0.    , 0.    , 0.    , 0.    ,\n",
              "        0.0425, 0.5275, 1.    , 0.4825, 0.0375, 0.    , 0.    , 0.    ,\n",
              "        0.    , 0.    , 0.    , 0.    ],\n",
              "       [0.    , 0.    , 0.    , 0.    , 0.    , 0.    , 0.    , 0.    ,\n",
              "        0.2975, 0.8425, 1.    , 0.8275, 0.2625, 0.    , 0.    , 0.    ,\n",
              "        0.    , 0.    , 0.    , 0.    ],\n",
              "       [0.    , 0.    , 0.    , 0.    , 0.    , 0.    , 0.    , 0.1875,\n",
              "        0.7125, 1.    , 1.    , 1.    , 0.6875, 0.1625, 0.    , 0.    ,\n",
              "        0.    , 0.    , 0.    , 0.    ],\n",
              "       [0.    , 0.    , 0.    , 0.    , 0.    , 0.    , 0.    , 0.375 ,\n",
              "        1.    , 1.    , 1.    , 1.    , 1.    , 0.5275, 0.0825, 0.    ,\n",
              "        0.    , 0.    , 0.    , 0.    ],\n",
              "       [0.    , 0.    , 0.    , 0.    , 0.    , 0.0275, 0.1   , 0.4375,\n",
              "        1.    , 1.    , 1.    , 1.    , 1.    , 1.    , 0.275 , 0.    ,\n",
              "        0.    , 0.    , 0.    , 0.    ],\n",
              "       [0.    , 0.    , 0.    , 0.    , 0.    , 0.2475, 0.9   , 0.9375,\n",
              "        1.    , 1.    , 1.    , 1.    , 1.    , 1.    , 0.275 , 0.    ,\n",
              "        0.    , 0.    , 0.    , 0.    ],\n",
              "       [0.    , 0.    , 0.    , 0.    , 0.1575, 0.7825, 1.    , 1.    ,\n",
              "        1.    , 1.    , 1.    , 1.    , 1.    , 1.    , 0.7825, 0.1575,\n",
              "        0.    , 0.    , 0.    , 0.    ],\n",
              "       [0.    , 0.    , 0.    , 0.0875, 0.6125, 1.    , 1.    , 1.    ,\n",
              "        0.7875, 0.5   , 0.5   , 0.5   , 0.8125, 1.    , 1.    , 0.6125,\n",
              "        0.0875, 0.    , 0.    , 0.    ],\n",
              "       [0.    , 0.    , 0.    , 0.175 , 1.    , 1.    , 1.    , 0.8875,\n",
              "        0.4025, 0.    , 0.    , 0.    , 0.4375, 0.9025, 1.    , 1.    ,\n",
              "        0.175 , 0.    , 0.    , 0.    ],\n",
              "       [0.    , 0.    , 0.0125, 0.2575, 1.    , 1.    , 0.9675, 0.5625,\n",
              "        0.    , 0.    , 0.    , 0.    , 0.    , 0.6075, 0.9725, 1.    ,\n",
              "        0.2575, 0.0125, 0.    , 0.    ],\n",
              "       [0.    , 0.    , 0.1125, 0.9175, 1.    , 1.    , 0.7075, 0.0625,\n",
              "        0.    , 0.    , 0.    , 0.    , 0.    , 0.0675, 0.7525, 1.    ,\n",
              "        0.9175, 0.1125, 0.    , 0.    ],\n",
              "       [0.    , 0.0525, 0.7375, 1.    , 1.    , 0.8075, 0.2025, 0.    ,\n",
              "        0.    , 0.    , 0.    , 0.    , 0.    , 0.    , 0.725 , 1.    ,\n",
              "        1.    , 0.7375, 0.0525, 0.    ],\n",
              "       [0.0125, 0.5375, 1.    , 1.    , 1.    , 0.725 , 0.    , 0.    ,\n",
              "        0.    , 0.    , 0.    , 0.    , 0.    , 0.    , 0.725 , 1.    ,\n",
              "        1.    , 1.    , 0.5375, 0.0125],\n",
              "       [0.025 , 1.    , 1.    , 1.    , 0.9325, 0.5075, 0.    , 0.    ,\n",
              "        0.    , 0.    , 0.    , 0.    , 0.    , 0.    , 0.5075, 0.9325,\n",
              "        1.    , 1.    , 1.    , 0.025 ],\n",
              "       [0.1225, 1.    , 1.    , 0.9825, 0.6975, 0.    , 0.    , 0.    ,\n",
              "        0.    , 0.    , 0.0525, 0.1   , 0.0375, 0.    , 0.    , 0.6975,\n",
              "        0.9825, 1.    , 1.    , 0.1225],\n",
              "       [0.9025, 1.    , 1.    , 0.8425, 0.0775, 0.    , 0.    , 0.    ,\n",
              "        0.    , 0.    , 0.4725, 0.9   , 0.3375, 0.    , 0.    , 0.0775,\n",
              "        0.8425, 1.    , 1.    , 0.9025],\n",
              "       [1.    , 1.    , 1.    , 0.825 , 0.    , 0.    , 0.    , 0.    ,\n",
              "        0.    , 0.3325, 0.8575, 1.    , 0.8125, 0.2275, 0.    , 0.    ,\n",
              "        0.825 , 1.    , 1.    , 1.    ],\n",
              "       [1.    , 1.    , 0.9375, 0.4125, 0.    , 0.    , 0.    , 0.    ,\n",
              "        0.2125, 0.7375, 1.    , 1.    , 1.    , 0.325 , 0.    , 0.    ,\n",
              "        0.825 , 1.    , 1.    , 1.    ],\n",
              "       [1.    , 1.    , 0.875 , 0.    , 0.    , 0.    , 0.    , 0.    ,\n",
              "        0.425 , 1.    , 1.    , 1.    , 1.    , 0.325 , 0.    , 0.    ,\n",
              "        0.825 , 1.    , 1.    , 1.    ],\n",
              "       [1.    , 1.    , 0.875 , 0.    , 0.    , 0.    , 0.    , 0.0375,\n",
              "        0.4825, 1.    , 1.    , 1.    , 1.    , 0.3925, 0.0275, 0.0775,\n",
              "        0.8425, 1.    , 1.    , 0.9025],\n",
              "       [1.    , 1.    , 0.875 , 0.    , 0.    , 0.    , 0.    , 0.3375,\n",
              "        0.9425, 1.    , 1.    , 1.    , 1.    , 0.9325, 0.2475, 0.6975,\n",
              "        0.9825, 1.    , 1.    , 0.1225],\n",
              "       [0.3175, 0.9475, 0.2625, 0.    , 0.    , 0.1925, 0.7   , 0.8125,\n",
              "        1.    , 1.    , 1.    , 1.    , 1.    , 1.    , 0.7825, 0.9325,\n",
              "        1.    , 1.    , 1.    , 0.025 ],\n",
              "       [0.0125, 0.4625, 0.    , 0.    , 0.1125, 0.6375, 1.    , 1.    ,\n",
              "        1.    , 1.    , 1.    , 1.    , 1.    , 0.6625, 0.8625, 1.    ,\n",
              "        1.    , 1.    , 0.5375, 0.0125],\n",
              "       [0.    , 0.    , 0.    , 0.0525, 0.4575, 1.    , 1.    , 1.    ,\n",
              "        0.8725, 0.7   , 0.7   , 0.7   , 0.7   , 0.2275, 0.5075, 0.7   ,\n",
              "        0.7   , 0.7   , 0.0525, 0.    ],\n",
              "       [0.    , 0.    , 0.    , 0.1575, 0.9225, 1.    , 1.    , 1.    ,\n",
              "        0.6175, 0.1   , 0.1   , 0.1   , 0.1   , 0.0325, 0.0725, 0.1   ,\n",
              "        0.1   , 0.1   , 0.0075, 0.    ]])"
            ]
          },
          "metadata": {
            "tags": []
          },
          "execution_count": 181
        }
      ]
    },
    {
      "cell_type": "code",
      "metadata": {
        "id": "K1RB_6cVULKX",
        "colab_type": "code",
        "colab": {}
      },
      "source": [
        "# Normalize inputs\n",
        "X_train = X_train.astype('float32')\n",
        "X_test = X_test.astype('float32')\n",
        "# X_train /= 255.\n",
        "# X_test /= 255."
      ],
      "execution_count": 0,
      "outputs": []
    },
    {
      "cell_type": "code",
      "metadata": {
        "id": "Y5-s-AjNULFM",
        "colab_type": "code",
        "colab": {}
      },
      "source": [
        "BATCH_SIZE = 10\n",
        "\n",
        "torch_X_train = torch.from_numpy(X_train).type(torch.LongTensor)\n",
        "torch_y_train = torch.from_numpy(y_train).type(torch.LongTensor)\n",
        "# torch_y_train = F.one_hot(torch_y_train, 10)\n",
        "\n",
        "torch_X_test = torch.from_numpy(X_test).type(torch.LongTensor)\n",
        "torch_y_test = torch.from_numpy(y_test).type(torch.LongTensor)\n",
        "# torch_y_test = F.one_hot(torch_y_test, 10)\n",
        "\n",
        "# torch train and test sets\n",
        "train = torch.utils.data.TensorDataset(torch_X_train.reshape(-1, 500), torch_y_train)\n",
        "test = torch.utils.data.TensorDataset(torch_X_test.view(-1, 500), torch_y_test)\n",
        "\n",
        "# data loader\n",
        "train_loader = torch.utils.data.DataLoader(train, batch_size = BATCH_SIZE, shuffle = True)\n",
        "test_loader = torch.utils.data.DataLoader(test, batch_size = BATCH_SIZE, shuffle = True)"
      ],
      "execution_count": 0,
      "outputs": []
    },
    {
      "cell_type": "code",
      "metadata": {
        "id": "XkqAvKsqULC3",
        "colab_type": "code",
        "outputId": "01334adf-e7f2-4bcc-c065-4b8d0056bae0",
        "colab": {
          "base_uri": "https://localhost:8080/",
          "height": 286
        }
      },
      "source": [
        "plt.imshow(torch_X_test[199]), torch_y_test[199]"
      ],
      "execution_count": 0,
      "outputs": [
        {
          "output_type": "execute_result",
          "data": {
            "text/plain": [
              "(<matplotlib.image.AxesImage at 0x7f7da186d160>, tensor(5))"
            ]
          },
          "metadata": {
            "tags": []
          },
          "execution_count": 184
        },
        {
          "output_type": "display_data",
          "data": {
            "image/png": "[encoded data removed]",
            "text/plain": [
              "<Figure size 432x288 with 1 Axes>"
            ]
          },
          "metadata": {
            "tags": []
          }
        }
      ]
    },
    {
      "cell_type": "code",
      "metadata": {
        "id": "4KJhvrP2UfQO",
        "colab_type": "code",
        "outputId": "05de6559-5faf-4fa6-a7b8-b197968b9fd8",
        "colab": {
          "base_uri": "https://localhost:8080/",
          "height": 102
        }
      },
      "source": [
        "class MLP(nn.Module):\n",
        "    def __init__(self):\n",
        "        super(MLP, self).__init__()\n",
        "        self.linear1 = nn.Linear(500, 256)\n",
        "        self.linear2 = nn.Linear(256, 64)\n",
        "        self.linear3 = nn.Linear(64, 10)\n",
        "    \n",
        "    def forward(self, x):\n",
        "        X = F.relu(self.linear1(x))\n",
        "        X = F.relu(self.linear2(X))\n",
        "        # Find the error!\n",
        "        # return F.softmax(self.linear, dim = 1)\n",
        "\n",
        "\n",
        "        return F.softmax(self.linear3(X), dim = 0)\n",
        "        \n",
        "        \n",
        "        # return F.softmax(self.linear3(X), dim = 1)\n",
        "\n",
        " \n",
        "mlp = MLP()\n",
        "print(mlp)"
      ],
      "execution_count": 0,
      "outputs": [
        {
          "output_type": "stream",
          "text": [
            "MLP(\n",
            "  (linear1): Linear(in_features=500, out_features=256, bias=True)\n",
            "  (linear2): Linear(in_features=256, out_features=64, bias=True)\n",
            "  (linear3): Linear(in_features=64, out_features=10, bias=True)\n",
            ")\n"
          ],
          "name": "stdout"
        }
      ]
    },
    {
      "cell_type": "code",
      "metadata": {
        "id": "owXpYp3iUfS_",
        "colab_type": "code",
        "colab": {}
      },
      "source": [
        "def fit(model, train_loader):\n",
        "    optimizer = torch.optim.SGD(model.parameters(), lr = 0.01, momentum = 0.9)\n",
        "    error = nn.CrossEntropyLoss() # https://pytorch.org/docs/stable/nn.html#torch.nn.CrossEntropyLoss\n",
        "    EPOCHS = 25\n",
        "    model.train()\n",
        "    for epoch in range(EPOCHS):\n",
        "        correct = 0\n",
        "        for batch_idx, (X_batch, y_batch) in enumerate(train_loader):\n",
        "          var_X_batch = Variable(X_batch).float() # Switch it to long(), What happens?\n",
        "          var_y_batch = Variable(y_batch).long()\n",
        "          optimizer.zero_grad()\n",
        "          output = model(var_X_batch)\n",
        "          loss = error(output, var_y_batch)\n",
        "          loss.backward()\n",
        "          optimizer.step()\n",
        "\n",
        "          # Total correct predictions\n",
        "          predicted = torch.max(output.data, 1)[1] \n",
        "          correct += (predicted == var_y_batch).sum()\n",
        "        # print(predicted)\n",
        "          if batch_idx % 50 == 0:\n",
        "              print('Epoch : {} [{}/{} ({:.0f}%)]\\tLoss: {:.6f}\\t Accuracy:{:.3f}%'.format(\n",
        "                  epoch, batch_idx*len(X_batch), len(train_loader.dataset), 100.*batch_idx / len(train_loader), loss.data, float(correct*100) / float(BATCH_SIZE*(batch_idx+1))))\n"
      ],
      "execution_count": 0,
      "outputs": []
    },
    {
      "cell_type": "code",
      "metadata": {
        "id": "ElX8xdnEUfVW",
        "colab_type": "code",
        "outputId": "e0bec92a-2edf-4ce1-bfb3-b97e5a983301",
        "colab": {
          "base_uri": "https://localhost:8080/",
          "height": 867
        }
      },
      "source": [
        "fit(mlp, train_loader)"
      ],
      "execution_count": 0,
      "outputs": [
        {
          "output_type": "stream",
          "text": [
            "Epoch : 0 [0/1000 (0%)]\tLoss: 2.302682\t Accuracy:0.000%\n",
            "Epoch : 0 [500/1000 (50%)]\tLoss: 2.301157\t Accuracy:12.745%\n",
            "Epoch : 1 [0/1000 (0%)]\tLoss: 2.299767\t Accuracy:10.000%\n",
            "Epoch : 1 [500/1000 (50%)]\tLoss: 2.290315\t Accuracy:40.392%\n",
            "Epoch : 2 [0/1000 (0%)]\tLoss: 2.287726\t Accuracy:30.000%\n",
            "Epoch : 2 [500/1000 (50%)]\tLoss: 2.245332\t Accuracy:43.922%\n",
            "Epoch : 3 [0/1000 (0%)]\tLoss: 2.209873\t Accuracy:40.000%\n",
            "Epoch : 3 [500/1000 (50%)]\tLoss: 2.181643\t Accuracy:43.529%\n",
            "Epoch : 4 [0/1000 (0%)]\tLoss: 2.181277\t Accuracy:60.000%\n",
            "Epoch : 4 [500/1000 (50%)]\tLoss: 2.161744\t Accuracy:48.824%\n",
            "Epoch : 5 [0/1000 (0%)]\tLoss: 2.047658\t Accuracy:80.000%\n",
            "Epoch : 5 [500/1000 (50%)]\tLoss: 2.055091\t Accuracy:50.784%\n",
            "Epoch : 6 [0/1000 (0%)]\tLoss: 2.071779\t Accuracy:40.000%\n",
            "Epoch : 6 [500/1000 (50%)]\tLoss: 2.069267\t Accuracy:47.255%\n",
            "Epoch : 7 [0/1000 (0%)]\tLoss: 1.934430\t Accuracy:70.000%\n",
            "Epoch : 7 [500/1000 (50%)]\tLoss: 1.979069\t Accuracy:56.471%\n",
            "Epoch : 8 [0/1000 (0%)]\tLoss: 2.113691\t Accuracy:50.000%\n",
            "Epoch : 8 [500/1000 (50%)]\tLoss: 1.960609\t Accuracy:56.078%\n",
            "Epoch : 9 [0/1000 (0%)]\tLoss: 1.942869\t Accuracy:40.000%\n",
            "Epoch : 9 [500/1000 (50%)]\tLoss: 1.894892\t Accuracy:59.608%\n",
            "Epoch : 10 [0/1000 (0%)]\tLoss: 1.890113\t Accuracy:70.000%\n",
            "Epoch : 10 [500/1000 (50%)]\tLoss: 1.891942\t Accuracy:55.686%\n",
            "Epoch : 11 [0/1000 (0%)]\tLoss: 1.893540\t Accuracy:60.000%\n",
            "Epoch : 11 [500/1000 (50%)]\tLoss: 1.875473\t Accuracy:58.039%\n",
            "Epoch : 12 [0/1000 (0%)]\tLoss: 2.036163\t Accuracy:50.000%\n",
            "Epoch : 12 [500/1000 (50%)]\tLoss: 1.927064\t Accuracy:59.608%\n",
            "Epoch : 13 [0/1000 (0%)]\tLoss: 1.999512\t Accuracy:40.000%\n",
            "Epoch : 13 [500/1000 (50%)]\tLoss: 1.844824\t Accuracy:59.020%\n",
            "Epoch : 14 [0/1000 (0%)]\tLoss: 1.780612\t Accuracy:70.000%\n",
            "Epoch : 14 [500/1000 (50%)]\tLoss: 2.008194\t Accuracy:62.941%\n",
            "Epoch : 15 [0/1000 (0%)]\tLoss: 1.987760\t Accuracy:40.000%\n",
            "Epoch : 15 [500/1000 (50%)]\tLoss: 1.966705\t Accuracy:59.020%\n",
            "Epoch : 16 [0/1000 (0%)]\tLoss: 1.713894\t Accuracy:100.000%\n",
            "Epoch : 16 [500/1000 (50%)]\tLoss: 2.026100\t Accuracy:64.314%\n",
            "Epoch : 17 [0/1000 (0%)]\tLoss: 1.898950\t Accuracy:80.000%\n",
            "Epoch : 17 [500/1000 (50%)]\tLoss: 1.914761\t Accuracy:64.902%\n",
            "Epoch : 18 [0/1000 (0%)]\tLoss: 1.765778\t Accuracy:70.000%\n",
            "Epoch : 18 [500/1000 (50%)]\tLoss: 1.945362\t Accuracy:66.275%\n",
            "Epoch : 19 [0/1000 (0%)]\tLoss: 1.973866\t Accuracy:60.000%\n",
            "Epoch : 19 [500/1000 (50%)]\tLoss: 1.914175\t Accuracy:65.882%\n",
            "Epoch : 20 [0/1000 (0%)]\tLoss: 1.881196\t Accuracy:70.000%\n",
            "Epoch : 20 [500/1000 (50%)]\tLoss: 1.945758\t Accuracy:63.529%\n",
            "Epoch : 21 [0/1000 (0%)]\tLoss: 1.885275\t Accuracy:70.000%\n",
            "Epoch : 21 [500/1000 (50%)]\tLoss: 1.814084\t Accuracy:65.294%\n",
            "Epoch : 22 [0/1000 (0%)]\tLoss: 1.888810\t Accuracy:60.000%\n",
            "Epoch : 22 [500/1000 (50%)]\tLoss: 1.957567\t Accuracy:69.020%\n",
            "Epoch : 23 [0/1000 (0%)]\tLoss: 1.881171\t Accuracy:60.000%\n",
            "Epoch : 23 [500/1000 (50%)]\tLoss: 1.967462\t Accuracy:64.706%\n",
            "Epoch : 24 [0/1000 (0%)]\tLoss: 1.931211\t Accuracy:50.000%\n",
            "Epoch : 24 [500/1000 (50%)]\tLoss: 1.847095\t Accuracy:65.882%\n"
          ],
          "name": "stdout"
        }
      ]
    },
    {
      "cell_type": "code",
      "metadata": {
        "id": "xwj358Gw4UaY",
        "colab_type": "code",
        "outputId": "3f1ce19c-c252-48c5-875b-f52e62232332",
        "colab": {
          "base_uri": "https://localhost:8080/",
          "height": 286
        }
      },
      "source": [
        "for a, b in enumerate(test_loader):\n",
        "  # print(a[1])\n",
        "  # xx_test = a[1]\n",
        "  # xy_test = b[1]\n",
        "  # plt.imshow(a[1].view(25, 20))\n",
        "  # print(b)\n",
        "\n",
        "  print(b[1][0])\n",
        "  d = b[0].view(10, 25, 20)[0]\n",
        "  plt.imshow(d)\n",
        "\n",
        "\n",
        "\n",
        "  o = mlp(b[0].type(torch.FloatTensor))\n",
        "  break"
      ],
      "execution_count": 0,
      "outputs": [
        {
          "output_type": "stream",
          "text": [
            "tensor(8)\n"
          ],
          "name": "stdout"
        },
        {
          "output_type": "display_data",
          "data": {
            "image/png": "[encoded data removed]",
            "text/plain": [
              "<Figure size 432x288 with 1 Axes>"
            ]
          },
          "metadata": {
            "tags": []
          }
        }
      ]
    },
    {
      "cell_type": "code",
      "metadata": {
        "id": "Iw62_uDL3oTK",
        "colab_type": "code",
        "outputId": "976ee0c9-577d-4676-f983-ae36fba5285c",
        "colab": {
          "base_uri": "https://localhost:8080/",
          "height": 51
        }
      },
      "source": [
        "torch.max(o, dim = 0)"
      ],
      "execution_count": 0,
      "outputs": [
        {
          "output_type": "execute_result",
          "data": {
            "text/plain": [
              "torch.return_types.max(values=tensor([0.9327, 0.8091, 0.9638, 0.8680, 0.4304, 0.9993, 0.9542, 0.9834, 0.9365,\n",
              "        0.9205], grad_fn=<MaxBackward0>), indices=tensor([9, 3, 4, 8, 1, 6, 2, 9, 0, 3]))"
            ]
          },
          "metadata": {
            "tags": []
          },
          "execution_count": 192
        }
      ]
    },
    {
      "cell_type": "code",
      "metadata": {
        "id": "le2u-77IUfYO",
        "colab_type": "code",
        "outputId": "d13e4fee-0840-4a22-9ca5-750a7bf0e641",
        "colab": {
          "base_uri": "https://localhost:8080/",
          "height": 34
        }
      },
      "source": [
        "def evaluate(model = mlp):\n",
        "#model = mlp\n",
        "    correct = 0 \n",
        "    for test_imgs, test_labels in test_loader:\n",
        "        #print(test_imgs.shape)\n",
        "        test_imgs = Variable(test_imgs).float()\n",
        "        output = model(test_imgs)\n",
        "        predicted = torch.max(output,1)[1]\n",
        "        correct += (predicted == test_labels).sum()\n",
        "    print(\"Test accuracy:{:.1f}% \".format( float(correct) * 100 / (len(test_loader)*BATCH_SIZE)))\n",
        "evaluate(mlp)"
      ],
      "execution_count": 0,
      "outputs": [
        {
          "output_type": "stream",
          "text": [
            "Test accuracy:61.0% \n"
          ],
          "name": "stdout"
        }
      ]
    },
    {
      "cell_type": "markdown",
      "metadata": {
        "id": "6QRPPfTjUpoj",
        "colab_type": "text"
      },
      "source": [
        "# CNN"
      ]
    },
    {
      "cell_type": "code",
      "metadata": {
        "id": "6iDVyDMaUfcU",
        "colab_type": "code",
        "outputId": "08bd5d03-f111-4ac8-c8cf-84635c97bc59",
        "colab": {
          "base_uri": "https://localhost:8080/",
          "height": 51
        }
      },
      "source": [
        "torch_X_train_cnn = torch_X_train.view(-1, 1,25,20).float()\n",
        "torch_X_test_cnn = torch_X_test.view(-1,1,25,20).float()\n",
        "print(torch_X_train_cnn.shape)\n",
        "print(torch_X_test_cnn.shape)\n",
        "\n",
        "# Pytorch train and test sets\n",
        "train = torch.utils.data.TensorDataset(torch_X_train_cnn,torch_y_train)\n",
        "test = torch.utils.data.TensorDataset(torch_X_test_cnn,torch_y_test)\n",
        "\n",
        "# data loader\n",
        "train_loader = torch.utils.data.DataLoader(train, batch_size = BATCH_SIZE, shuffle = True)\n",
        "test_loader = torch.utils.data.DataLoader(test, batch_size = BATCH_SIZE, shuffle = True)"
      ],
      "execution_count": 0,
      "outputs": [
        {
          "output_type": "stream",
          "text": [
            "torch.Size([1000, 1, 25, 20])\n",
            "torch.Size([200, 1, 25, 20])\n"
          ],
          "name": "stdout"
        }
      ]
    },
    {
      "cell_type": "code",
      "metadata": {
        "id": "Vcsqcve7UfhP",
        "colab_type": "code",
        "outputId": "ab724fdd-15f7-4a4d-e9ff-300a0bc372ae",
        "colab": {
          "base_uri": "https://localhost:8080/",
          "height": 816
        }
      },
      "source": [
        "class CNN(nn.Module):\n",
        "    def __init__(self):\n",
        "        super(CNN, self).__init__()\n",
        "        # self.conv1 = nn.Conv2d(1, 32, kernel_size = 3)\n",
        "        self.conv1 = nn.Conv2d(1, 32, kernel_size=3)\n",
        "        self.conv2 = nn.Conv2d(32, 32, kernel_size=3)\n",
        "        self.conv3 = nn.Conv2d(32,64, kernel_size=3)\n",
        "        self.fc1 = nn.Linear(768, 256)\n",
        "        self.fc2 = nn.Linear(256, 10)\n",
        "\n",
        "    def forward(self, x):\n",
        "        x = F.relu(self.conv1(x))\n",
        "        #x = F.dropout(x, p=0.5, training=self.training)\n",
        "        x = F.relu(F.max_pool2d(self.conv2(x), 2))\n",
        "        # x = F.dropout(x, p=0.5, training=self.training)\n",
        "        x = F.relu(F.max_pool2d(self.conv3(x),2))\n",
        "        # x = F.dropout(x, p=0.5, training=self.training)\n",
        "        x = x.view(-1,768 )\n",
        "        x = F.relu(self.fc1(x))\n",
        "        # x = F.dropout(x, training=self.training)\n",
        "        x = self.fc2(x)\n",
        "        return F.softmax(x, dim = 0)\n",
        " \n",
        "cnn = CNN()\n",
        "print(cnn)\n",
        "\n",
        "it = iter(train_loader)\n",
        "X_batch, y_batch = next(it)\n",
        "print(cnn.forward(X_batch))\n",
        "X_batch, _ = next(it)\n",
        "print(cnn.forward(X_batch))"
      ],
      "execution_count": 0,
      "outputs": [
        {
          "output_type": "stream",
          "text": [
            "CNN(\n",
            "  (conv1): Conv2d(1, 32, kernel_size=(3, 3), stride=(1, 1))\n",
            "  (conv2): Conv2d(32, 32, kernel_size=(3, 3), stride=(1, 1))\n",
            "  (conv3): Conv2d(32, 64, kernel_size=(3, 3), stride=(1, 1))\n",
            "  (fc1): Linear(in_features=768, out_features=256, bias=True)\n",
            "  (fc2): Linear(in_features=256, out_features=10, bias=True)\n",
            ")\n",
            "tensor([[0.1002, 0.1005, 0.1003, 0.0996, 0.0991, 0.0999, 0.0990, 0.1004, 0.1008,\n",
            "         0.1005],\n",
            "        [0.0993, 0.0997, 0.0991, 0.1003, 0.1003, 0.0996, 0.1007, 0.0996, 0.1001,\n",
            "         0.0993],\n",
            "        [0.1005, 0.1009, 0.1000, 0.0989, 0.1004, 0.0987, 0.0994, 0.1007, 0.0986,\n",
            "         0.1006],\n",
            "        [0.0990, 0.1008, 0.0988, 0.1015, 0.1020, 0.1004, 0.1023, 0.0990, 0.0987,\n",
            "         0.0971],\n",
            "        [0.0998, 0.0994, 0.0998, 0.1006, 0.0998, 0.0998, 0.1007, 0.1002, 0.0996,\n",
            "         0.0995],\n",
            "        [0.1000, 0.1007, 0.1009, 0.0999, 0.0992, 0.1004, 0.0990, 0.1010, 0.1010,\n",
            "         0.0999],\n",
            "        [0.0990, 0.1008, 0.0988, 0.1015, 0.1020, 0.1004, 0.1023, 0.0990, 0.0987,\n",
            "         0.0971],\n",
            "        [0.1008, 0.0984, 0.1012, 0.0985, 0.0988, 0.1003, 0.0983, 0.1006, 0.1005,\n",
            "         0.1020],\n",
            "        [0.0998, 0.0999, 0.0996, 0.1004, 0.1007, 0.1001, 0.1005, 0.0992, 0.1005,\n",
            "         0.0996],\n",
            "        [0.1016, 0.0988, 0.1015, 0.0988, 0.0978, 0.1004, 0.0977, 0.1005, 0.1014,\n",
            "         0.1044]], grad_fn=<SoftmaxBackward>)\n",
            "tensor([[0.1001, 0.0999, 0.1006, 0.0996, 0.0995, 0.1004, 0.0998, 0.1006, 0.1006,\n",
            "         0.0998],\n",
            "        [0.1006, 0.0991, 0.1001, 0.0990, 0.1000, 0.0998, 0.0989, 0.1001, 0.1000,\n",
            "         0.1012],\n",
            "        [0.0998, 0.0997, 0.1015, 0.0995, 0.0991, 0.0998, 0.0983, 0.1007, 0.1013,\n",
            "         0.1028],\n",
            "        [0.1008, 0.1004, 0.1008, 0.1001, 0.0986, 0.1004, 0.0986, 0.1011, 0.1007,\n",
            "         0.1002],\n",
            "        [0.0997, 0.1008, 0.0988, 0.1008, 0.1021, 0.1000, 0.1016, 0.0990, 0.0977,\n",
            "         0.0982],\n",
            "        [0.0998, 0.0998, 0.0994, 0.1007, 0.0990, 0.1003, 0.1008, 0.0991, 0.0993,\n",
            "         0.0993],\n",
            "        [0.1001, 0.1003, 0.0982, 0.1004, 0.1013, 0.1001, 0.1021, 0.0986, 0.1002,\n",
            "         0.0988],\n",
            "        [0.1007, 0.0993, 0.1007, 0.0987, 0.0993, 0.0994, 0.0983, 0.1013, 0.1006,\n",
            "         0.1011],\n",
            "        [0.0996, 0.1000, 0.1016, 0.0993, 0.0989, 0.0994, 0.0986, 0.1008, 0.1012,\n",
            "         0.1025],\n",
            "        [0.0988, 0.1008, 0.0982, 0.1019, 0.1022, 0.1005, 0.1032, 0.0988, 0.0984,\n",
            "         0.0961]], grad_fn=<SoftmaxBackward>)\n"
          ],
          "name": "stdout"
        }
      ]
    },
    {
      "cell_type": "code",
      "metadata": {
        "id": "OimehjP6UflH",
        "colab_type": "code",
        "outputId": "ed22ce86-2a67-4923-9f2c-58f22115ae04",
        "colab": {
          "base_uri": "https://localhost:8080/",
          "height": 1000
        }
      },
      "source": [
        "fit(cnn,train_loader)"
      ],
      "execution_count": 0,
      "outputs": [
        {
          "output_type": "stream",
          "text": [
            "Epoch : 0 [0/1000 (0%)]\tLoss: 2.302886\t Accuracy:0.000%\n",
            "Epoch : 0 [500/1000 (50%)]\tLoss: 2.302001\t Accuracy:10.392%\n",
            "Epoch : 1 [0/1000 (0%)]\tLoss: 2.301719\t Accuracy:10.000%\n",
            "Epoch : 1 [500/1000 (50%)]\tLoss: 2.302009\t Accuracy:20.392%\n",
            "Epoch : 2 [0/1000 (0%)]\tLoss: 2.301477\t Accuracy:10.000%\n",
            "Epoch : 2 [500/1000 (50%)]\tLoss: 2.301170\t Accuracy:25.098%\n",
            "Epoch : 3 [0/1000 (0%)]\tLoss: 2.299306\t Accuracy:30.000%\n",
            "Epoch : 3 [500/1000 (50%)]\tLoss: 2.297020\t Accuracy:34.314%\n",
            "Epoch : 4 [0/1000 (0%)]\tLoss: 2.292511\t Accuracy:40.000%\n",
            "Epoch : 4 [500/1000 (50%)]\tLoss: 2.294217\t Accuracy:32.941%\n",
            "Epoch : 5 [0/1000 (0%)]\tLoss: 2.267496\t Accuracy:50.000%\n",
            "Epoch : 5 [500/1000 (50%)]\tLoss: 2.207666\t Accuracy:38.824%\n",
            "Epoch : 6 [0/1000 (0%)]\tLoss: 2.172174\t Accuracy:50.000%\n",
            "Epoch : 6 [500/1000 (50%)]\tLoss: 2.037337\t Accuracy:43.725%\n",
            "Epoch : 7 [0/1000 (0%)]\tLoss: 2.154230\t Accuracy:30.000%\n",
            "Epoch : 7 [500/1000 (50%)]\tLoss: 1.921123\t Accuracy:50.588%\n",
            "Epoch : 8 [0/1000 (0%)]\tLoss: 1.951385\t Accuracy:60.000%\n",
            "Epoch : 8 [500/1000 (50%)]\tLoss: 1.941278\t Accuracy:51.765%\n",
            "Epoch : 9 [0/1000 (0%)]\tLoss: 1.811856\t Accuracy:70.000%\n",
            "Epoch : 9 [500/1000 (50%)]\tLoss: 1.957396\t Accuracy:52.745%\n",
            "Epoch : 10 [0/1000 (0%)]\tLoss: 2.021544\t Accuracy:60.000%\n",
            "Epoch : 10 [500/1000 (50%)]\tLoss: 1.924213\t Accuracy:54.902%\n",
            "Epoch : 11 [0/1000 (0%)]\tLoss: 1.752357\t Accuracy:80.000%\n",
            "Epoch : 11 [500/1000 (50%)]\tLoss: 1.847402\t Accuracy:56.078%\n",
            "Epoch : 12 [0/1000 (0%)]\tLoss: 2.029975\t Accuracy:50.000%\n",
            "Epoch : 12 [500/1000 (50%)]\tLoss: 1.860216\t Accuracy:55.098%\n",
            "Epoch : 13 [0/1000 (0%)]\tLoss: 1.661010\t Accuracy:80.000%\n",
            "Epoch : 13 [500/1000 (50%)]\tLoss: 2.095012\t Accuracy:59.216%\n",
            "Epoch : 14 [0/1000 (0%)]\tLoss: 1.658350\t Accuracy:90.000%\n",
            "Epoch : 14 [500/1000 (50%)]\tLoss: 2.194386\t Accuracy:55.098%\n",
            "Epoch : 15 [0/1000 (0%)]\tLoss: 1.942655\t Accuracy:40.000%\n",
            "Epoch : 15 [500/1000 (50%)]\tLoss: 1.955766\t Accuracy:60.392%\n",
            "Epoch : 16 [0/1000 (0%)]\tLoss: 2.132408\t Accuracy:40.000%\n",
            "Epoch : 16 [500/1000 (50%)]\tLoss: 1.748102\t Accuracy:58.824%\n",
            "Epoch : 17 [0/1000 (0%)]\tLoss: 1.927033\t Accuracy:50.000%\n",
            "Epoch : 17 [500/1000 (50%)]\tLoss: 1.902650\t Accuracy:56.863%\n",
            "Epoch : 18 [0/1000 (0%)]\tLoss: 1.936751\t Accuracy:50.000%\n",
            "Epoch : 18 [500/1000 (50%)]\tLoss: 2.231746\t Accuracy:59.216%\n",
            "Epoch : 19 [0/1000 (0%)]\tLoss: 1.749005\t Accuracy:70.000%\n",
            "Epoch : 19 [500/1000 (50%)]\tLoss: 1.852665\t Accuracy:55.294%\n",
            "Epoch : 20 [0/1000 (0%)]\tLoss: 1.976471\t Accuracy:40.000%\n",
            "Epoch : 20 [500/1000 (50%)]\tLoss: 1.949778\t Accuracy:58.627%\n",
            "Epoch : 21 [0/1000 (0%)]\tLoss: 1.979669\t Accuracy:60.000%\n",
            "Epoch : 21 [500/1000 (50%)]\tLoss: 1.843376\t Accuracy:62.941%\n",
            "Epoch : 22 [0/1000 (0%)]\tLoss: 1.843349\t Accuracy:60.000%\n",
            "Epoch : 22 [500/1000 (50%)]\tLoss: 1.761104\t Accuracy:59.608%\n",
            "Epoch : 23 [0/1000 (0%)]\tLoss: 1.865960\t Accuracy:60.000%\n",
            "Epoch : 23 [500/1000 (50%)]\tLoss: 1.936196\t Accuracy:61.961%\n",
            "Epoch : 24 [0/1000 (0%)]\tLoss: 2.129468\t Accuracy:30.000%\n",
            "Epoch : 24 [500/1000 (50%)]\tLoss: 1.964974\t Accuracy:57.843%\n"
          ],
          "name": "stdout"
        },
        {
          "output_type": "display_data",
          "data": {
            "image/png": "[encoded data removed]",
            "text/plain": [
              "<Figure size 432x288 with 1 Axes>"
            ]
          },
          "metadata": {
            "tags": []
          }
        }
      ]
    },
    {
      "cell_type": "code",
      "metadata": {
        "id": "J_oZH8umUffP",
        "colab_type": "code",
        "colab": {}
      },
      "source": [
        "out = cnn(*size_input*)\n",
        "# Whats' the input size?"
      ],
      "execution_count": 0,
      "outputs": []
    },
    {
      "cell_type": "code",
      "metadata": {
        "id": "wByaqn-dUfbG",
        "colab_type": "code",
        "colab": {}
      },
      "source": [
        "torch.max(out)"
      ],
      "execution_count": 0,
      "outputs": []
    },
    {
      "cell_type": "markdown",
      "metadata": {
        "id": "l1kUg5cvUy5A",
        "colab_type": "text"
      },
      "source": [
        "# Reference\n",
        "\n",
        "* https://blog.slavv.com/37-reasons-why-your-neural-network-is-not-working-4020854bd607"
      ]
    },
    {
      "cell_type": "code",
      "metadata": {
        "id": "eiVRueteU0Cu",
        "colab_type": "code",
        "colab": {}
      },
      "source": [
        ""
      ],
      "execution_count": 0,
      "outputs": []
    }
  ]
}